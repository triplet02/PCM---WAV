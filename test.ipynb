{
 "cells": [
  {
   "cell_type": "code",
   "execution_count": 4,
   "metadata": {},
   "outputs": [],
   "source": [
    "import sys\n",
    "import wave\n",
    "import soundfile\n",
    "\n",
    "arg = './KsponSpeech_0125/KsponSpeech_124004'\n",
    "\n",
    "with open(arg+'.pcm', 'rb') as pcmfile: \n",
    "    pcmdata = pcmfile.read()\n",
    "with wave.open(arg+'_sampwidth2'+'.wav', 'wb') as wavfile:\n",
    "    wavfile.setparams((1, 2, 16000, 0, 'NONE', 'NONE'))\n",
    "    wavfile.writeframes(pcmdata)\n",
    "    # Frame Rate = 8000!"
   ]
  }
 ],
 "metadata": {
  "kernelspec": {
   "display_name": "Python 3",
   "language": "python",
   "name": "python3"
  },
  "language_info": {
   "codemirror_mode": {
    "name": "ipython",
    "version": 3
   },
   "file_extension": ".py",
   "mimetype": "text/x-python",
   "name": "python",
   "nbconvert_exporter": "python",
   "pygments_lexer": "ipython3",
   "version": "3.7.3"
  }
 },
 "nbformat": 4,
 "nbformat_minor": 2
}
